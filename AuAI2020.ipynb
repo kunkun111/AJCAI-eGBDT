{
 "cells": [
  {
   "cell_type": "markdown",
   "metadata": {},
   "source": [
    "# Initialization"
   ]
  },
  {
   "cell_type": "markdown",
   "metadata": {},
   "source": [
    "## Import Packages "
   ]
  },
  {
   "cell_type": "code",
   "execution_count": 2,
   "metadata": {
    "ExecuteTime": {
     "end_time": "2020-08-07T01:02:09.578749Z",
     "start_time": "2020-08-07T01:02:00.933561Z"
    },
    "scrolled": true
   },
   "outputs": [
    {
     "name": "stdout",
     "output_type": "stream",
     "text": [
      "Pixiedust database opened successfully\n"
     ]
    },
    {
     "data": {
      "text/html": [
       "\n",
       "        <div style=\"margin:10px\">\n",
       "            <a href=\"https://github.com/ibm-watson-data-lab/pixiedust\" target=\"_new\">\n",
       "                <img src=\"https://github.com/ibm-watson-data-lab/pixiedust/raw/master/docs/_static/pd_icon32.png\" style=\"float:left;margin-right:10px\"/>\n",
       "            </a>\n",
       "            <span>Pixiedust version 1.1.18</span>\n",
       "        </div>\n",
       "        "
      ],
      "text/plain": [
       "<IPython.core.display.HTML object>"
      ]
     },
     "metadata": {},
     "output_type": "display_data"
    }
   ],
   "source": [
    "from sklearn.tree import DecisionTreeRegressor\n",
    "import numpy as np\n",
    "import matplotlib.pyplot as plt\n",
    "from sklearn import metrics\n",
    "from sklearn.model_selection import KFold\n",
    "from sklearn.cluster import KMeans\n",
    "from scipy.io import arff\n",
    "import pandas as pd\n",
    "from sklearn.preprocessing import LabelEncoder\n",
    "import time\n",
    "from sklearn.metrics import confusion_matrix, precision_score, accuracy_score, recall_score, f1_score, roc_auc_score, roc_curve\n",
    "import os\n",
    "from sklearn.ensemble import GradientBoostingRegressor\n",
    "import arff\n",
    "from tqdm import tqdm\n",
    "import pixiedust\n",
    "\n",
    "from copy import deepcopy"
   ]
  },
  {
   "cell_type": "markdown",
   "metadata": {},
   "source": [
    "## GBDT main class"
   ]
  },
  {
   "cell_type": "code",
   "execution_count": 3,
   "metadata": {
    "ExecuteTime": {
     "end_time": "2020-08-07T01:02:09.599912Z",
     "start_time": "2020-08-07T01:02:09.580307Z"
    }
   },
   "outputs": [],
   "source": [
    "class GBDT(object):\n",
    "    def __init__(self,\n",
    "                 max_iter = 50,\n",
    "                 sample_rate = 0.8,\n",
    "                 learn_rate = 0.01,\n",
    "                 max_depth = 10,\n",
    "                 new_tree_max_iter = 10,\n",
    "                 min_samples_leaf = 5):\n",
    "\n",
    "        self.max_iter = max_iter\n",
    "        self.sample_rate = sample_rate # 0 < sample_rate <= 1\n",
    "        self.learn_rate = learn_rate\n",
    "        self.max_depth = max_depth\n",
    "        self.min_samples_leaf = min_samples_leaf\n",
    "        self.dtrees = []\n",
    "        self.original_f = None\n",
    "        self.new_tree_max_iter = new_tree_max_iter\n",
    "\n",
    "    def fit(self, x_train, y_train):\n",
    "\n",
    "        n, m = x_train.shape\n",
    "        \n",
    "        f = np.ones(n) * np.mean(y_train)\n",
    "        self.original_f = np.mean(y_train)\n",
    "        self.residual_mean = np.zeros(self.max_iter)\n",
    "        n_sample = int(n * self.sample_rate)\n",
    "\n",
    "        for iter_ in range(self.max_iter): \n",
    "            sample_idx = np.random.permutation(n)[:n_sample]\n",
    "            x_train_subset, y_train_subset = x_train[sample_idx, :], y_train[\n",
    "                sample_idx]\n",
    "            y_predict_subset = np.zeros(n_sample)\n",
    "            \n",
    "            for j in range(n_sample):\n",
    "                k = sample_idx[j]\n",
    "                y_predict_subset[j] = f[k]\n",
    "\n",
    "            residual = y_train_subset - y_predict_subset\n",
    "\n",
    "            dtree = DecisionTreeRegressor(max_depth = self.max_depth, min_samples_leaf=self.min_samples_leaf)\n",
    "            # fit to negative gradient\n",
    "            dtree.fit(x_train_subset, residual * self.learn_rate)\n",
    "            self.dtrees.append(dtree)  # append new tree\n",
    "\n",
    "            # update prediction score\n",
    "            for j in range(n):\n",
    "                pre = dtree.predict(np.array([x_train[j]]))\n",
    "                f[j] += pre\n",
    "\n",
    "    def predict(self, x):\n",
    "\n",
    "        n = x.shape[0]\n",
    "        y = np.zeros([n, len(self.dtrees)])\n",
    "        \n",
    "        for iter_ in range(len(self.dtrees)):\n",
    "            dtree = self.dtrees[iter_]\n",
    "\n",
    "            y[:, iter_] = dtree.predict(x)\n",
    "\n",
    "        init_residual = np.ones(y.shape[0]) * self.original_f\n",
    "        self.cumulated_pred_score = np.cumsum(y, axis = 1)\n",
    "        return np.sum(y, axis = 1) + init_residual.reshape(1, -1)\n",
    "    \n",
    "    def best_tree_purning(self, y_test):\n",
    "        init_residual = np.ones(y_test.shape[0]) * self.original_f\n",
    "        residual = y_test.reshape(1, -1) - init_residual.reshape(1, -1)\n",
    "        residual_mat = np.repeat(residual, len(self.dtrees), axis = 0).T\n",
    "        tree_purning_residual = np.abs(residual_mat - self.cumulated_pred_score)\n",
    "        tree_purning_residual = np.mean(tree_purning_residual, axis = 0)\n",
    "        tree_purning_idx = np.argmin(tree_purning_residual)\n",
    "        self.dtrees = self.dtrees[:tree_purning_idx + 1]\n",
    "        self.max_iter = len(self.dtrees)\n",
    "        return tree_purning_residual\n",
    "        \n",
    "        \n",
    "    def incremental_fit(self, x_test, y_test, pred_score, new_tree_max_iter):\n",
    "        \n",
    "        n, m = x_test.shape\n",
    "        \n",
    "        f = pred_score\n",
    "      \n",
    "        n_sample = int(n*self.sample_rate)\n",
    "        \n",
    "        for iter_ in range(new_tree_max_iter):\n",
    "            \n",
    "            sample_idx = np.random.permutation(n)[:n_sample]\n",
    "            \n",
    "            y_residual = y_test - f\n",
    "            x_train_subset, residual_train_subset = x_test[sample_idx, :], y_residual[sample_idx]\n",
    "            \n",
    "            new_tree = DecisionTreeRegressor(max_depth = self.max_depth)\n",
    "            new_tree.fit(x_train_subset, residual_train_subset * self.learn_rate)\n",
    "            self.dtrees.append(new_tree)\n",
    "            self.max_iter += 1\n",
    "            \n",
    "            for j in range(n):\n",
    "                pre = new_tree.predict(np.array([x_test[j]]))\n",
    "                f[j] += pre"
   ]
  },
  {
   "cell_type": "markdown",
   "metadata": {},
   "source": [
    "## Loading .arff Dataset"
   ]
  },
  {
   "cell_type": "code",
   "execution_count": 4,
   "metadata": {
    "ExecuteTime": {
     "end_time": "2020-08-07T01:02:09.625653Z",
     "start_time": "2020-08-07T01:02:09.601764Z"
    }
   },
   "outputs": [],
   "source": [
    "def load_arff(path, dataset_name, num_copy):\n",
    "    if num_copy == -1:\n",
    "        file_path = path + dataset_name + '/'+ dataset_name + '.arff'\n",
    "        dataset = arff.load(open(file_path), encode_nominal=True)\n",
    "    else:\n",
    "        file_path = path + dataset_name + '/'+ dataset_name + str(num_copy) + '.arff'\n",
    "        dataset = arff.load(open(file_path), encode_nominal=True)\n",
    "    return np.array(dataset[\"data\"])"
   ]
  },
  {
   "cell_type": "markdown",
   "metadata": {},
   "source": [
    "# Experiment"
   ]
  },
  {
   "cell_type": "markdown",
   "metadata": {},
   "source": [
    "## Algorithms"
   ]
  },
  {
   "cell_type": "markdown",
   "metadata": {},
   "source": [
    "### GBDT Baseline"
   ]
  },
  {
   "cell_type": "code",
   "execution_count": 25,
   "metadata": {
    "ExecuteTime": {
     "end_time": "2020-08-07T08:04:00.255513Z",
     "start_time": "2020-08-07T08:04:00.247760Z"
    }
   },
   "outputs": [],
   "source": [
    "def evaluation_baseline_GBDT(data, ini_train_size, win_size, **GBDT_parm):\n",
    "\n",
    "    x_train = data[0:ini_train_size, :-1]\n",
    "    y_train = data[0:ini_train_size, -1]\n",
    "\n",
    "    model = GBDT(**GBDT_parm)\n",
    "    model.fit(x_train, y_train)\n",
    "\n",
    "    kf = KFold(int((data.shape[0] - ini_train_size) / win_size))\n",
    "    stream = data[ini_train_size:, :]\n",
    "    pred = np.zeros(stream.shape[0])\n",
    "    batch_acc = []\n",
    "    batch_f1 = []\n",
    "    \n",
    "    for train_index, test_index in tqdm(kf.split(stream), total=kf.get_n_splits(), desc=\"#batch\"):\n",
    "        \n",
    "        x_test = stream[test_index, :-1]\n",
    "        y_test = stream[test_index, -1]\n",
    "\n",
    "        y_residual = model.predict(x_test)\n",
    "        y_pred = (y_residual >= 0.5)\n",
    "        \n",
    "        pred[test_index] = y_pred\n",
    "        batch_acc.append(metrics.accuracy_score(y_test, y_pred.T))\n",
    "        batch_f1.append(metrics.f1_score(y_test, y_pred.T,average='macro'))\n",
    "    \n",
    "    return batch_acc, batch_f1, pred"
   ]
  },
  {
   "cell_type": "markdown",
   "metadata": {},
   "source": [
    "### Naive Incremental GBDT (iGBDT)"
   ]
  },
  {
   "cell_type": "code",
   "execution_count": 26,
   "metadata": {
    "ExecuteTime": {
     "end_time": "2020-08-07T08:04:01.489646Z",
     "start_time": "2020-08-07T08:04:01.480618Z"
    }
   },
   "outputs": [],
   "source": [
    "def evaluation_naive_iGBDT(data, ini_train_size, win_size, num_inc_tree, **GBDT_parm):\n",
    "\n",
    "    x_train = data[0:ini_train_size, :-1]\n",
    "    y_train = data[0:ini_train_size, -1]        \n",
    "\n",
    "    model = GBDT(**GBDT_parm)\n",
    "    model.fit(x_train, y_train)\n",
    "\n",
    "    kf = KFold(int((data.shape[0] - ini_train_size) / win_size))\n",
    "    stream = data[ini_train_size:, :]\n",
    "    pred = np.zeros(stream.shape[0])\n",
    "    batch_acc = []\n",
    "    batch_f1=[]\n",
    "\n",
    "    \n",
    "    for train_index, test_index in tqdm(kf.split(stream), total=kf.get_n_splits(), desc=\"#batch\"):\n",
    "\n",
    "        x_test = stream[test_index, :-1]\n",
    "        y_test = stream[test_index, -1]\n",
    "\n",
    "        y_pred_score = model.predict(x_test)\n",
    "        y_pred_label = (y_pred_score >= 0.5)\n",
    "        \n",
    "        batch_acc.append(metrics.accuracy_score(y_test, y_pred_label.T))\n",
    "        batch_f1.append(metrics.f1_score(y_test, y_pred_label.T ,average='macro'))\n",
    "        \n",
    "        pred[test_index] = y_pred_label\n",
    "\n",
    "        y_pred_score = model.predict(x_test)\n",
    "        y_pred_score = np.squeeze(y_pred_score)\n",
    "        \n",
    "        model.incremental_fit(x_test, y_test, y_pred_score, num_inc_tree)\n",
    "                \n",
    "        x_train = x_test\n",
    "        y_train = y_test\n",
    "    \n",
    "    return batch_acc, batch_f1, pred"
   ]
  },
  {
   "cell_type": "markdown",
   "metadata": {},
   "source": [
    "### eGBDT"
   ]
  },
  {
   "cell_type": "code",
   "execution_count": 12,
   "metadata": {
    "ExecuteTime": {
     "end_time": "2020-08-07T01:11:54.396334Z",
     "start_time": "2020-08-07T01:11:54.382243Z"
    }
   },
   "outputs": [],
   "source": [
    "def evaluation_eGBDT(data, ini_train_size, win_size, max_tree, num_ince_tree, **GBDT_pram):\n",
    "\n",
    "    x_train = data[0:ini_train_size, :-1]\n",
    "    y_train = data[0:ini_train_size, -1]\n",
    "    model = GBDT(**GBDT_pram)\n",
    "    model.fit(x_train, y_train)\n",
    "\n",
    "    kf = KFold(int((data.shape[0] - ini_train_size) / win_size))\n",
    "    stream = data[ini_train_size:, :]\n",
    "    pred = np.zeros(stream.shape[0])\n",
    "    accuracy = []\n",
    "    f1 = []\n",
    "    prune_tree = []#kun\n",
    "    tree_before_purning = []\n",
    "    tree_after_purning = []\n",
    "    best_tree_index = []\n",
    "    tree_purning_residual = []\n",
    "\n",
    "    for train_index, test_index in tqdm(kf.split(stream), total=kf.get_n_splits(), desc=\"#batch\"):\n",
    "\n",
    "        x_test = stream[test_index, :-1]\n",
    "        y_test = stream[test_index, -1]\n",
    "        \n",
    "        # Step 1. Make Prediction\n",
    "        y_pred_score = model.predict(x_test)\n",
    "        y_pred_score = np.squeeze(y_pred_score)\n",
    "        y_pred_label = (y_pred_score >= 0.5)\n",
    "\n",
    "        accuracy.append(metrics.accuracy_score(y_test, y_pred_label.T))\n",
    "        f1.append(metrics.f1_score(y_test,y_pred_label.T,average='macro'))\n",
    "        \n",
    "        pred[test_index] = y_pred_label\n",
    "        \n",
    "        # Step 2. Purning GBDT\n",
    "        num_tree_before_purning = len(model.dtrees)\n",
    "        tree_residual = model.best_tree_purning(y_test)\n",
    "        num_tree_after_purning = len(model.dtrees)\n",
    "        \n",
    "        best_tree_index.append(num_tree_after_purning)\n",
    "        tree_purning_residual.append(tree_residual)\n",
    "        \n",
    "        \n",
    "        #print(test_index[0], 'Purned Num Tree,', num_tree_before_purning - num_tree_after_purning)\n",
    "        prune_tree.append(num_tree_before_purning - num_tree_after_purning)#kun\n",
    "        tree_before_purning.append(num_tree_before_purning)\n",
    "        tree_after_purning.append(num_tree_after_purning)\n",
    "        \n",
    "        # Step 3. Update GBDT\n",
    "        # Step 3.1 Drift Detection, If num_tree < num_base\n",
    "        if num_tree_after_purning < GBDT_pram['max_iter']:\n",
    "            model = GBDT(**GBDT_pram)\n",
    "            model.fit(x_test, y_test)\n",
    "            GBDT_ensemble_dict = {}\n",
    "            last_best = 1\n",
    "        else:\n",
    "            # Step 3.2 Incremental Update with Fixed Number of Trees\n",
    "            # This parameter can be ensemble, such as {5, 10, 15 20, 25}\n",
    "            if len(model.dtrees) <= max_tree:\n",
    "                y_pred_score = np.squeeze(model.predict(x_test))\n",
    "                model.incremental_fit(x_test, y_test, y_pred_score, num_ince_tree)\n",
    "    tqdm.write('Num tree at the end,' + str(len(model.dtrees)))\n",
    "    \n",
    "    \n",
    "    \n",
    "    best_tree_index = pd.DataFrame(best_tree_index)\n",
    "    plt.figure(figsize=(6, 2.5))\n",
    "    plt.plot(best_tree_index)\n",
    "    plt.xlabel('chunk')\n",
    "    plt.ylabel('best tree index')\n",
    "    plt.show()\n",
    "    \n",
    "    \n",
    "    \n",
    "    tree_purning_residual = pd.DataFrame(tree_purning_residual)\n",
    "    \n",
    "   \n",
    "    #print('index',best_tree_index)\n",
    "    #print('tree_purning_residual',tree_purning_residual)\n",
    "    \n",
    "    return accuracy, f1, pred, best_tree_index, prune_tree#,tree_before_purning,tree_after_purning#kun"
   ]
  },
  {
   "cell_type": "markdown",
   "metadata": {},
   "source": [
    "## Run Real-world Experiment"
   ]
  },
  {
   "cell_type": "code",
   "execution_count": 13,
   "metadata": {
    "ExecuteTime": {
     "end_time": "2020-08-07T01:13:10.297248Z",
     "start_time": "2020-08-07T01:13:10.281389Z"
    }
   },
   "outputs": [],
   "source": [
    "def exp_realworld(path, dataset_name, num_run, exp_function, **exp_parm):\n",
    "\n",
    "    aver_total_acc = np.zeros(num_run)\n",
    "    aver_total_f1 = np.zeros(num_run)\n",
    "\n",
    "    np.random.seed(0)\n",
    "    data = load_arff(path, dataset_name, -1)\n",
    "    num_eval = int(\n",
    "        (data.shape[0] - exp_parm['ini_train_size']) / exp_parm['win_size'])\n",
    "    batch_acc = np.zeros([num_run, num_eval])\n",
    "    batch_f1 = np.zeros([num_run, num_eval])\n",
    "\n",
    "    \n",
    "    \n",
    "    tqdm.write('='*20)\n",
    "    tqdm.write((dataset_name + str(0)).center(20))\n",
    "    batch_acc[0], batch_f1[0], pred,best_tree_index, prune_tree= exp_function(data, **exp_parm)\n",
    "    aver_total_acc[0] = metrics.accuracy_score(\n",
    "        data[exp_parm['ini_train_size']:, -1], pred)\n",
    "    aver_total_f1[0] = metrics.f1_score(\n",
    "        data[exp_parm['ini_train_size']:, -1], pred,average='macro')\n",
    "\n",
    "    tqdm.write('Current r_seed acc,' + str(aver_total_acc[0]))\n",
    "    tqdm.write('Current r_seed f1,' + str(aver_total_f1[0]))\n",
    "    \n",
    "    #np.savetxt(str(dataset_name)+'_iGBDT_batch_acc'+'.out', batch_acc[0] , delimiter=',')\n",
    "    #np.savetxt(str(dataset_name)+'_iGBDT_batch_f1'+'.out', batch_f1[0] , delimiter=',')\n",
    "    #np.savetxt(str(dataset_name)+'_tree_number'+'.out', best_tree_index , delimiter=',')\n",
    "    np.savetxt(str(dataset_name)+'_prune_tree_number'+'.out', prune_tree , delimiter=',')\n",
    "    \n",
    "#save result\n",
    "    print(pred.shape)\n",
    "    print(data[exp_parm['ini_train_size']:, -1].shape)\n",
    "    result = np.zeros([pred.shape[0], 2])\n",
    "    result[:, 0] = pred\n",
    "    result[:, 1] = data[exp_parm['ini_train_size']:, -1]\n",
    "    np.savetxt(str(dataset_name)+'.out', result , delimiter=',')\n",
    "    \n",
    "    \n",
    "    for r_seed in range(1, num_run):\n",
    "        np.random.seed(r_seed)\n",
    "        data = load_arff(path, dataset_name, -1)\n",
    "        num_eval = int((data.shape[0] - exp_parm['ini_train_size']) /\n",
    "                       exp_parm['win_size'])\n",
    "        tqdm.write('='*20)\n",
    "        tqdm.write((dataset_name + str(r_seed)).center(20))\n",
    "        batch_acc[r_seed], batch_f1[r_seed],pred, best_tree_index = exp_function(data, **exp_parm)\n",
    "        aver_total_acc[r_seed] = metrics.accuracy_score(\n",
    "            data[exp_parm['ini_train_size']:, -1], pred)\n",
    "        tqdm.write('Current r_seed acc,' + str(aver_total_acc[r_seed]))\n",
    "        aver_total_f1[r_seed] = metrics.f1_score(\n",
    "            data[exp_parm['ini_train_size']:, -1], pred, average='macro')\n",
    "\n",
    "        \n",
    "        tqdm.write('Current r_seed acc,' + str(aver_total_acc[r_seed]))\n",
    "        tqdm.write('Current r_seed f1,' + str(aver_total_f1[r_seed]))\n",
    "\n",
    "        \n",
    "\n",
    "        \n",
    "    tqdm.write('Average acc,' + str(np.mean(aver_total_acc)))\n",
    "    tqdm.write('Average f1,' + str(np.mean(aver_total_f1)))\n",
    "    tqdm.write('Std acc,' + str(np.std(aver_total_acc)))\n",
    "     \n",
    "    "
   ]
  },
  {
   "cell_type": "code",
   "execution_count": 14,
   "metadata": {
    "ExecuteTime": {
     "end_time": "2020-08-07T01:13:13.477212Z",
     "start_time": "2020-08-07T01:13:13.474343Z"
    }
   },
   "outputs": [],
   "source": [
    "path = 'Noaa/'\n",
    "num_run = 1\n",
    "datasets = [\n",
    "    'noaa_042700','noaa_100370','noaa_265090','noaa_424750','noaa_567780',\n",
    "    'noaa_606560','noaa_702220','noaa_802220'\n",
    "]"
   ]
  },
  {
   "cell_type": "markdown",
   "metadata": {},
   "source": [
    "## eGBDT"
   ]
  },
  {
   "cell_type": "markdown",
   "metadata": {},
   "source": [
    "### noaa_042700"
   ]
  },
  {
   "cell_type": "code",
   "execution_count": 15,
   "metadata": {
    "ExecuteTime": {
     "end_time": "2020-08-07T01:14:26.825304Z",
     "start_time": "2020-08-07T01:13:15.358593Z"
    },
    "scrolled": true
   },
   "outputs": [
    {
     "name": "stdout",
     "output_type": "stream",
     "text": [
      "====================\n",
      "    noaa_0427000    \n"
     ]
    },
    {
     "name": "stderr",
     "output_type": "stream",
     "text": [
      "#batch: 100%|██████████| 74/74 [01:03<00:00,  1.16it/s]"
     ]
    },
    {
     "name": "stdout",
     "output_type": "stream",
     "text": [
      "Num tree at the end,1035\n"
     ]
    },
    {
     "name": "stderr",
     "output_type": "stream",
     "text": [
      "\n"
     ]
    },
    {
     "data": {
      "image/png": "[encoded data removed]",
      "text/plain": [
       "<Figure size 432x180 with 1 Axes>"
      ]
     },
     "metadata": {
      "needs_background": "light"
     },
     "output_type": "display_data"
    },
    {
     "name": "stdout",
     "output_type": "stream",
     "text": [
      "Current r_seed acc,0.7916115763184957\n",
      "Current r_seed f1,0.791544065256437\n",
      "(27228,)\n",
      "(27228,)\n",
      "Average acc,0.7916115763184957\n",
      "Average f1,0.791544065256437\n",
      "Std acc,0.0\n"
     ]
    }
   ],
   "source": [
    "eGBDT_parm = {\n",
    "    'ini_train_size': 365,\n",
    "    'win_size': 365,\n",
    "    'max_tree': 10000,\n",
    "    'num_ince_tree': 25\n",
    "}\n",
    "\n",
    "GBDT_pram = {\n",
    "    'max_iter': 250,\n",
    "    'sample_rate': 0.8,\n",
    "    'learn_rate': 0.01,\n",
    "    'max_depth': 10,\n",
    "    'min_samples_leaf': 5\n",
    "}\n",
    "\n",
    "eGBDT_parm.update(GBDT_pram)\n",
    "dataset_name = 'noaa_042700'\n",
    "exp_realworld(path, dataset_name, num_run, evaluation_eGBDT,\n",
    "              **eGBDT_parm)"
   ]
  },
  {
   "cell_type": "markdown",
   "metadata": {},
   "source": [
    "### noaa_100370"
   ]
  },
  {
   "cell_type": "code",
   "execution_count": 16,
   "metadata": {
    "ExecuteTime": {
     "end_time": "2020-08-07T01:15:37.045941Z",
     "start_time": "2020-08-07T01:14:26.826848Z"
    }
   },
   "outputs": [
    {
     "name": "stdout",
     "output_type": "stream",
     "text": [
      "====================\n",
      "    noaa_1003700    \n"
     ]
    },
    {
     "name": "stderr",
     "output_type": "stream",
     "text": [
      "#batch: 100%|██████████| 73/73 [01:02<00:00,  1.17it/s]"
     ]
    },
    {
     "name": "stdout",
     "output_type": "stream",
     "text": [
      "Num tree at the end,786\n"
     ]
    },
    {
     "name": "stderr",
     "output_type": "stream",
     "text": [
      "\n"
     ]
    },
    {
     "data": {
      "image/png": "[encoded data removed]",
      "text/plain": [
       "<Figure size 432x180 with 1 Axes>"
      ]
     },
     "metadata": {
      "needs_background": "light"
     },
     "output_type": "display_data"
    },
    {
     "name": "stdout",
     "output_type": "stream",
     "text": [
      "Current r_seed acc,0.851151713615897\n",
      "Current r_seed f1,0.8138386757400724\n",
      "(26873,)\n",
      "(26873,)\n",
      "Average acc,0.851151713615897\n",
      "Average f1,0.8138386757400724\n",
      "Std acc,0.0\n"
     ]
    }
   ],
   "source": [
    "eGBDT_parm = {\n",
    "    'ini_train_size': 365,\n",
    "    'win_size': 365,\n",
    "    'max_tree': 10000,\n",
    "    'num_ince_tree': 25\n",
    "}\n",
    "\n",
    "GBDT_pram = {\n",
    "    'max_iter': 250,\n",
    "    'sample_rate': 0.8,\n",
    "    'learn_rate': 0.01,\n",
    "    'max_depth': 10,\n",
    "    'min_samples_leaf': 5\n",
    "}\n",
    "\n",
    "eGBDT_parm.update(GBDT_pram)\n",
    "dataset_name = 'noaa_100370'\n",
    "exp_realworld(path, dataset_name, num_run, evaluation_eGBDT,\n",
    "              **eGBDT_parm)"
   ]
  },
  {
   "cell_type": "markdown",
   "metadata": {},
   "source": [
    "### noaa_265090"
   ]
  },
  {
   "cell_type": "code",
   "execution_count": 17,
   "metadata": {
    "ExecuteTime": {
     "end_time": "2020-08-07T01:16:42.572377Z",
     "start_time": "2020-08-07T01:15:37.047654Z"
    }
   },
   "outputs": [
    {
     "name": "stdout",
     "output_type": "stream",
     "text": [
      "====================\n",
      "    noaa_2650900    \n"
     ]
    },
    {
     "name": "stderr",
     "output_type": "stream",
     "text": [
      "#batch: 100%|██████████| 69/69 [00:57<00:00,  1.19it/s]"
     ]
    },
    {
     "name": "stdout",
     "output_type": "stream",
     "text": [
      "Num tree at the end,854\n"
     ]
    },
    {
     "name": "stderr",
     "output_type": "stream",
     "text": [
      "\n"
     ]
    },
    {
     "data": {
      "image/png": "[encoded data removed]",
      "text/plain": [
       "<Figure size 432x180 with 1 Axes>"
      ]
     },
     "metadata": {
      "needs_background": "light"
     },
     "output_type": "display_data"
    },
    {
     "name": "stdout",
     "output_type": "stream",
     "text": [
      "Current r_seed acc,0.7740822960437643\n",
      "Current r_seed f1,0.7701560805696077\n",
      "(25226,)\n",
      "(25226,)\n",
      "Average acc,0.7740822960437643\n",
      "Average f1,0.7701560805696077\n",
      "Std acc,0.0\n"
     ]
    }
   ],
   "source": [
    "eGBDT_parm = {\n",
    "    'ini_train_size': 365,\n",
    "    'win_size': 365,\n",
    "    'max_tree': 10000,\n",
    "    'num_ince_tree': 25\n",
    "}\n",
    "\n",
    "GBDT_pram = {\n",
    "    'max_iter': 250,\n",
    "    'sample_rate': 0.8,\n",
    "    'learn_rate': 0.01,\n",
    "    'max_depth': 10,\n",
    "    'min_samples_leaf': 5\n",
    "}\n",
    "\n",
    "eGBDT_parm.update(GBDT_pram)\n",
    "dataset_name = 'noaa_265090'\n",
    "exp_realworld(path, dataset_name, num_run, evaluation_eGBDT,\n",
    "              **eGBDT_parm)"
   ]
  },
  {
   "cell_type": "markdown",
   "metadata": {},
   "source": [
    "### noaa_424750"
   ]
  },
  {
   "cell_type": "code",
   "execution_count": 18,
   "metadata": {
    "ExecuteTime": {
     "end_time": "2020-08-07T01:17:28.778731Z",
     "start_time": "2020-08-07T01:16:42.573933Z"
    }
   },
   "outputs": [
    {
     "name": "stdout",
     "output_type": "stream",
     "text": [
      "====================\n",
      "    noaa_4247500    \n"
     ]
    },
    {
     "name": "stderr",
     "output_type": "stream",
     "text": [
      "#batch: 100%|██████████| 48/48 [00:38<00:00,  1.25it/s]"
     ]
    },
    {
     "name": "stdout",
     "output_type": "stream",
     "text": [
      "Num tree at the end,582\n"
     ]
    },
    {
     "name": "stderr",
     "output_type": "stream",
     "text": [
      "\n"
     ]
    },
    {
     "data": {
      "image/png": "[encoded data removed]",
      "text/plain": [
       "<Figure size 432x180 with 1 Axes>"
      ]
     },
     "metadata": {
      "needs_background": "light"
     },
     "output_type": "display_data"
    },
    {
     "name": "stdout",
     "output_type": "stream",
     "text": [
      "Current r_seed acc,0.8800925403453335\n",
      "Current r_seed f1,0.8296889410064976\n",
      "(17722,)\n",
      "(17722,)\n",
      "Average acc,0.8800925403453335\n",
      "Average f1,0.8296889410064976\n",
      "Std acc,0.0\n"
     ]
    }
   ],
   "source": [
    "eGBDT_parm = {\n",
    "    'ini_train_size': 365,\n",
    "    'win_size': 365,\n",
    "    'max_tree': 10000,\n",
    "    'num_ince_tree': 25\n",
    "}\n",
    "\n",
    "GBDT_pram = {\n",
    "    'max_iter': 250,\n",
    "    'sample_rate': 0.8,\n",
    "    'learn_rate': 0.01,\n",
    "    'max_depth': 10,\n",
    "    'min_samples_leaf': 5\n",
    "}\n",
    "\n",
    "eGBDT_parm.update(GBDT_pram)\n",
    "dataset_name = 'noaa_424750'\n",
    "exp_realworld(path, dataset_name, num_run, evaluation_eGBDT,\n",
    "              **eGBDT_parm)"
   ]
  },
  {
   "cell_type": "markdown",
   "metadata": {},
   "source": [
    "### noaa_567780"
   ]
  },
  {
   "cell_type": "code",
   "execution_count": 19,
   "metadata": {
    "ExecuteTime": {
     "end_time": "2020-08-07T01:18:36.781723Z",
     "start_time": "2020-08-07T01:17:28.780107Z"
    }
   },
   "outputs": [
    {
     "name": "stdout",
     "output_type": "stream",
     "text": [
      "====================\n",
      "    noaa_5677800    \n"
     ]
    },
    {
     "name": "stderr",
     "output_type": "stream",
     "text": [
      "#batch: 100%|██████████| 69/69 [01:00<00:00,  1.15it/s]"
     ]
    },
    {
     "name": "stdout",
     "output_type": "stream",
     "text": [
      "Num tree at the end,1240\n"
     ]
    },
    {
     "name": "stderr",
     "output_type": "stream",
     "text": [
      "\n"
     ]
    },
    {
     "data": {
      "image/png": "[encoded data removed]",
      "text/plain": [
       "<Figure size 432x180 with 1 Axes>"
      ]
     },
     "metadata": {
      "needs_background": "light"
     },
     "output_type": "display_data"
    },
    {
     "name": "stdout",
     "output_type": "stream",
     "text": [
      "Current r_seed acc,0.8043220137734505\n",
      "Current r_seed f1,0.8014475997357847\n",
      "(25266,)\n",
      "(25266,)\n",
      "Average acc,0.8043220137734505\n",
      "Average f1,0.8014475997357847\n",
      "Std acc,0.0\n"
     ]
    }
   ],
   "source": [
    "eGBDT_parm = {\n",
    "    'ini_train_size': 365,\n",
    "    'win_size': 365,\n",
    "    'max_tree': 10000,\n",
    "    'num_ince_tree': 25\n",
    "}\n",
    "\n",
    "GBDT_pram = {\n",
    "    'max_iter': 250,\n",
    "    'sample_rate': 0.8,\n",
    "    'learn_rate': 0.01,\n",
    "    'max_depth': 10,\n",
    "    'min_samples_leaf': 5\n",
    "}\n",
    "\n",
    "eGBDT_parm.update(GBDT_pram)\n",
    "dataset_name = 'noaa_567780'\n",
    "exp_realworld(path, dataset_name, num_run, evaluation_eGBDT,\n",
    "              **eGBDT_parm)"
   ]
  },
  {
   "cell_type": "markdown",
   "metadata": {},
   "source": [
    "### noaa_606560"
   ]
  },
  {
   "cell_type": "code",
   "execution_count": 20,
   "metadata": {
    "ExecuteTime": {
     "end_time": "2020-08-07T01:19:22.074399Z",
     "start_time": "2020-08-07T01:18:36.783096Z"
    }
   },
   "outputs": [
    {
     "name": "stdout",
     "output_type": "stream",
     "text": [
      "====================\n",
      "    noaa_6065600    \n"
     ]
    },
    {
     "name": "stderr",
     "output_type": "stream",
     "text": [
      "#batch:  48%|████▊     | 21/44 [00:16<00:19,  1.18it/s]/home/kunwang/anaconda3/lib/python3.7/site-packages/sklearn/metrics/classification.py:1437: UndefinedMetricWarning: F-score is ill-defined and being set to 0.0 in labels with no predicted samples.\n",
      "  'precision', 'predicted', average, warn_for)\n",
      "#batch:  55%|█████▍    | 24/44 [00:19<00:17,  1.16it/s]/home/kunwang/anaconda3/lib/python3.7/site-packages/sklearn/metrics/classification.py:1437: UndefinedMetricWarning: F-score is ill-defined and being set to 0.0 in labels with no predicted samples.\n",
      "  'precision', 'predicted', average, warn_for)\n",
      "#batch:  57%|█████▋    | 25/44 [00:20<00:16,  1.15it/s]/home/kunwang/anaconda3/lib/python3.7/site-packages/sklearn/metrics/classification.py:1437: UndefinedMetricWarning: F-score is ill-defined and being set to 0.0 in labels with no predicted samples.\n",
      "  'precision', 'predicted', average, warn_for)\n",
      "#batch: 100%|██████████| 44/44 [00:37<00:00,  1.17it/s]"
     ]
    },
    {
     "name": "stdout",
     "output_type": "stream",
     "text": [
      "Num tree at the end,934\n"
     ]
    },
    {
     "name": "stderr",
     "output_type": "stream",
     "text": [
      "\n"
     ]
    },
    {
     "data": {
      "image/png": "[encoded data removed]",
      "text/plain": [
       "<Figure size 432x180 with 1 Axes>"
      ]
     },
     "metadata": {
      "needs_background": "light"
     },
     "output_type": "display_data"
    },
    {
     "name": "stdout",
     "output_type": "stream",
     "text": [
      "Current r_seed acc,0.9586376189015036\n",
      "Current r_seed f1,0.679559619463937\n",
      "(16295,)\n",
      "(16295,)\n",
      "Average acc,0.9586376189015036\n",
      "Average f1,0.679559619463937\n",
      "Std acc,0.0\n"
     ]
    }
   ],
   "source": [
    "eGBDT_parm = {\n",
    "    'ini_train_size': 365,\n",
    "    'win_size': 365,\n",
    "    'max_tree': 10000,\n",
    "    'num_ince_tree': 25\n",
    "}\n",
    "\n",
    "GBDT_pram = {\n",
    "    'max_iter': 250,\n",
    "    'sample_rate': 0.8,\n",
    "    'learn_rate': 0.01,\n",
    "    'max_depth': 10,\n",
    "    'min_samples_leaf': 5\n",
    "}\n",
    "\n",
    "eGBDT_parm.update(GBDT_pram)\n",
    "dataset_name = 'noaa_606560'\n",
    "exp_realworld(path, dataset_name, num_run, evaluation_eGBDT,\n",
    "              **eGBDT_parm)"
   ]
  },
  {
   "cell_type": "markdown",
   "metadata": {},
   "source": [
    "### noaa_702220"
   ]
  },
  {
   "cell_type": "code",
   "execution_count": 21,
   "metadata": {
    "ExecuteTime": {
     "end_time": "2020-08-07T01:20:38.395702Z",
     "start_time": "2020-08-07T01:19:22.075812Z"
    }
   },
   "outputs": [
    {
     "name": "stdout",
     "output_type": "stream",
     "text": [
      "====================\n",
      "    noaa_7022200    \n"
     ]
    },
    {
     "name": "stderr",
     "output_type": "stream",
     "text": [
      "#batch: 100%|██████████| 73/73 [01:08<00:00,  1.07it/s]"
     ]
    },
    {
     "name": "stdout",
     "output_type": "stream",
     "text": [
      "Num tree at the end,781\n"
     ]
    },
    {
     "name": "stderr",
     "output_type": "stream",
     "text": [
      "\n"
     ]
    },
    {
     "data": {
      "image/png": "[encoded data removed]",
      "text/plain": [
       "<Figure size 432x180 with 1 Axes>"
      ]
     },
     "metadata": {
      "needs_background": "light"
     },
     "output_type": "display_data"
    },
    {
     "name": "stdout",
     "output_type": "stream",
     "text": [
      "Current r_seed acc,0.7530187835420393\n",
      "Current r_seed f1,0.7465736754179206\n",
      "(26832,)\n",
      "(26832,)\n",
      "Average acc,0.7530187835420393\n",
      "Average f1,0.7465736754179206\n",
      "Std acc,0.0\n"
     ]
    }
   ],
   "source": [
    "eGBDT_parm = {\n",
    "    'ini_train_size': 365,\n",
    "    'win_size': 365,\n",
    "    'max_tree': 10000,\n",
    "    'num_ince_tree': 25\n",
    "}\n",
    "\n",
    "GBDT_pram = {\n",
    "    'max_iter': 250,\n",
    "    'sample_rate': 0.8,\n",
    "    'learn_rate': 0.01,\n",
    "    'max_depth': 10,\n",
    "    'min_samples_leaf': 5\n",
    "}\n",
    "\n",
    "eGBDT_parm.update(GBDT_pram)\n",
    "dataset_name = 'noaa_702220'\n",
    "exp_realworld(path, dataset_name, num_run, evaluation_eGBDT,\n",
    "              **eGBDT_parm)"
   ]
  },
  {
   "cell_type": "markdown",
   "metadata": {},
   "source": [
    "### noaa_802220"
   ]
  },
  {
   "cell_type": "code",
   "execution_count": 22,
   "metadata": {
    "ExecuteTime": {
     "end_time": "2020-08-07T01:21:52.451167Z",
     "start_time": "2020-08-07T01:20:38.397652Z"
    }
   },
   "outputs": [
    {
     "name": "stdout",
     "output_type": "stream",
     "text": [
      "====================\n",
      "    noaa_8022200    \n"
     ]
    },
    {
     "name": "stderr",
     "output_type": "stream",
     "text": [
      "#batch:  20%|█▉        | 13/66 [00:10<00:41,  1.28it/s]/home/kunwang/anaconda3/lib/python3.7/site-packages/sklearn/metrics/classification.py:1437: UndefinedMetricWarning: F-score is ill-defined and being set to 0.0 in labels with no predicted samples.\n",
      "  'precision', 'predicted', average, warn_for)\n",
      "#batch: 100%|██████████| 66/66 [01:06<00:00,  1.01s/it]"
     ]
    },
    {
     "name": "stdout",
     "output_type": "stream",
     "text": [
      "Num tree at the end,570\n"
     ]
    },
    {
     "name": "stderr",
     "output_type": "stream",
     "text": [
      "\n"
     ]
    },
    {
     "data": {
      "image/png": "[encoded data removed]",
      "text/plain": [
       "<Figure size 432x180 with 1 Axes>"
      ]
     },
     "metadata": {
      "needs_background": "light"
     },
     "output_type": "display_data"
    },
    {
     "name": "stdout",
     "output_type": "stream",
     "text": [
      "Current r_seed acc,0.7519699657576633\n",
      "Current r_seed f1,0.7091007013257571\n",
      "(24239,)\n",
      "(24239,)\n",
      "Average acc,0.7519699657576633\n",
      "Average f1,0.7091007013257571\n",
      "Std acc,0.0\n"
     ]
    }
   ],
   "source": [
    "eGBDT_parm = {\n",
    "    'ini_train_size': 365,\n",
    "    'win_size': 365,\n",
    "    'max_tree': 10000,\n",
    "    'num_ince_tree': 25\n",
    "}\n",
    "\n",
    "GBDT_pram = {\n",
    "    'max_iter': 250,\n",
    "    'sample_rate': 0.8,\n",
    "    'learn_rate': 0.01,\n",
    "    'max_depth': 10,\n",
    "    'min_samples_leaf': 5\n",
    "}\n",
    "\n",
    "eGBDT_parm.update(GBDT_pram)\n",
    "dataset_name = 'noaa_802220'\n",
    "exp_realworld(path, dataset_name, num_run, evaluation_eGBDT,\n",
    "              **eGBDT_parm)"
   ]
  },
  {
   "cell_type": "markdown",
   "metadata": {},
   "source": [
    "## GBDT Baseline"
   ]
  },
  {
   "cell_type": "markdown",
   "metadata": {},
   "source": [
    "### noaa_042700"
   ]
  },
  {
   "cell_type": "code",
   "execution_count": 57,
   "metadata": {
    "ExecuteTime": {
     "end_time": "2020-08-07T00:22:19.221812Z",
     "start_time": "2020-08-07T00:22:09.986715Z"
    }
   },
   "outputs": [
    {
     "name": "stdout",
     "output_type": "stream",
     "text": [
      "====================\n",
      "    noaa_0427000    \n"
     ]
    },
    {
     "name": "stderr",
     "output_type": "stream",
     "text": [
      "#batch:   7%|▋         | 5/74 [00:00<00:01, 43.74it/s]/home/kunwang/anaconda3/lib/python3.7/site-packages/sklearn/metrics/classification.py:1437: UndefinedMetricWarning: F-score is ill-defined and being set to 0.0 in labels with no predicted samples.\n",
      "  'precision', 'predicted', average, warn_for)\n",
      "/home/kunwang/anaconda3/lib/python3.7/site-packages/sklearn/metrics/classification.py:1437: UndefinedMetricWarning: F-score is ill-defined and being set to 0.0 in labels with no predicted samples.\n",
      "  'precision', 'predicted', average, warn_for)\n",
      "/home/kunwang/anaconda3/lib/python3.7/site-packages/sklearn/metrics/classification.py:1437: UndefinedMetricWarning: F-score is ill-defined and being set to 0.0 in labels with no predicted samples.\n",
      "  'precision', 'predicted', average, warn_for)\n",
      "/home/kunwang/anaconda3/lib/python3.7/site-packages/sklearn/metrics/classification.py:1437: UndefinedMetricWarning: F-score is ill-defined and being set to 0.0 in labels with no predicted samples.\n",
      "  'precision', 'predicted', average, warn_for)\n",
      "#batch:  14%|█▎        | 10/74 [00:00<00:01, 43.66it/s]/home/kunwang/anaconda3/lib/python3.7/site-packages/sklearn/metrics/classification.py:1437: UndefinedMetricWarning: F-score is ill-defined and being set to 0.0 in labels with no predicted samples.\n",
      "  'precision', 'predicted', average, warn_for)\n",
      "/home/kunwang/anaconda3/lib/python3.7/site-packages/sklearn/metrics/classification.py:1437: UndefinedMetricWarning: F-score is ill-defined and being set to 0.0 in labels with no predicted samples.\n",
      "  'precision', 'predicted', average, warn_for)\n",
      "/home/kunwang/anaconda3/lib/python3.7/site-packages/sklearn/metrics/classification.py:1437: UndefinedMetricWarning: F-score is ill-defined and being set to 0.0 in labels with no predicted samples.\n",
      "  'precision', 'predicted', average, warn_for)\n",
      "#batch:  34%|███▍      | 25/74 [00:00<00:01, 44.45it/s]/home/kunwang/anaconda3/lib/python3.7/site-packages/sklearn/metrics/classification.py:1437: UndefinedMetricWarning: F-score is ill-defined and being set to 0.0 in labels with no predicted samples.\n",
      "  'precision', 'predicted', average, warn_for)\n",
      "#batch:  41%|████      | 30/74 [00:00<00:01, 43.81it/s]/home/kunwang/anaconda3/lib/python3.7/site-packages/sklearn/metrics/classification.py:1437: UndefinedMetricWarning: F-score is ill-defined and being set to 0.0 in labels with no predicted samples.\n",
      "  'precision', 'predicted', average, warn_for)\n",
      "/home/kunwang/anaconda3/lib/python3.7/site-packages/sklearn/metrics/classification.py:1437: UndefinedMetricWarning: F-score is ill-defined and being set to 0.0 in labels with no predicted samples.\n",
      "  'precision', 'predicted', average, warn_for)\n",
      "#batch:  47%|████▋     | 35/74 [00:00<00:00, 43.46it/s]/home/kunwang/anaconda3/lib/python3.7/site-packages/sklearn/metrics/classification.py:1437: UndefinedMetricWarning: F-score is ill-defined and being set to 0.0 in labels with no predicted samples.\n",
      "  'precision', 'predicted', average, warn_for)\n",
      "#batch:  61%|██████    | 45/74 [00:01<00:00, 43.18it/s]/home/kunwang/anaconda3/lib/python3.7/site-packages/sklearn/metrics/classification.py:1437: UndefinedMetricWarning: F-score is ill-defined and being set to 0.0 in labels with no predicted samples.\n",
      "  'precision', 'predicted', average, warn_for)\n",
      "#batch:  74%|███████▍  | 55/74 [00:01<00:00, 43.11it/s]/home/kunwang/anaconda3/lib/python3.7/site-packages/sklearn/metrics/classification.py:1437: UndefinedMetricWarning: F-score is ill-defined and being set to 0.0 in labels with no predicted samples.\n",
      "  'precision', 'predicted', average, warn_for)\n",
      "#batch: 100%|██████████| 74/74 [00:01<00:00, 43.88it/s]\n"
     ]
    },
    {
     "name": "stdout",
     "output_type": "stream",
     "text": [
      "Current r_seed acc,0.46106948729249303\n",
      "Current r_seed f1,0.32696449113191806\n",
      "(27228,)\n",
      "(27228,)\n",
      "Average acc,0.46106948729249303\n",
      "Average f1,0.32696449113191806\n",
      "Std acc,0.0\n"
     ]
    }
   ],
   "source": [
    "GBDT_base = {\n",
    "    'ini_train_size': 365,\n",
    "    'win_size': 365,\n",
    "}\n",
    "\n",
    "GBDT_pram = {\n",
    "    'max_iter': 250,\n",
    "    'sample_rate': 0.8,\n",
    "    'learn_rate': 0.01,\n",
    "    'max_depth': 10,\n",
    "    'min_samples_leaf': 5\n",
    "}\n",
    "\n",
    "GBDT_base.update(GBDT_pram)\n",
    "dataset_name = 'noaa_042700'\n",
    "exp_realworld(path, dataset_name, num_run, evaluation_baseline_GBDT,\n",
    "              **GBDT_base)"
   ]
  },
  {
   "cell_type": "markdown",
   "metadata": {},
   "source": [
    "### noaa_100370"
   ]
  },
  {
   "cell_type": "code",
   "execution_count": 58,
   "metadata": {
    "ExecuteTime": {
     "end_time": "2020-08-07T00:22:28.619904Z",
     "start_time": "2020-08-07T00:22:19.223314Z"
    }
   },
   "outputs": [
    {
     "name": "stdout",
     "output_type": "stream",
     "text": [
      "====================\n",
      "    noaa_1003700    \n"
     ]
    },
    {
     "name": "stderr",
     "output_type": "stream",
     "text": [
      "#batch: 100%|██████████| 73/73 [00:01<00:00, 41.20it/s]\n"
     ]
    },
    {
     "name": "stdout",
     "output_type": "stream",
     "text": [
      "Current r_seed acc,0.7274959997023034\n",
      "Current r_seed f1,0.6367784452322862\n",
      "(26873,)\n",
      "(26873,)\n",
      "Average acc,0.7274959997023034\n",
      "Average f1,0.6367784452322862\n",
      "Std acc,0.0\n"
     ]
    }
   ],
   "source": [
    "GBDT_base = {\n",
    "    'ini_train_size': 365,\n",
    "    'win_size': 365,\n",
    "}\n",
    "\n",
    "GBDT_pram = {\n",
    "    'max_iter': 250,\n",
    "    'sample_rate': 0.8,\n",
    "    'learn_rate': 0.01,\n",
    "    'max_depth': 10,\n",
    "    'min_samples_leaf': 5\n",
    "}\n",
    "\n",
    "GBDT_base.update(GBDT_pram)\n",
    "dataset_name = 'noaa_100370'\n",
    "exp_realworld(path, dataset_name, num_run, evaluation_baseline_GBDT,\n",
    "              **GBDT_base)"
   ]
  },
  {
   "cell_type": "markdown",
   "metadata": {},
   "source": [
    "### noaa_265090"
   ]
  },
  {
   "cell_type": "code",
   "execution_count": 59,
   "metadata": {
    "ExecuteTime": {
     "end_time": "2020-08-07T00:22:37.773154Z",
     "start_time": "2020-08-07T00:22:28.621615Z"
    }
   },
   "outputs": [
    {
     "name": "stdout",
     "output_type": "stream",
     "text": [
      "====================\n",
      "    noaa_2650900    \n"
     ]
    },
    {
     "name": "stderr",
     "output_type": "stream",
     "text": [
      "#batch: 100%|██████████| 69/69 [00:01<00:00, 41.98it/s]\n"
     ]
    },
    {
     "name": "stdout",
     "output_type": "stream",
     "text": [
      "Current r_seed acc,0.7003884880678665\n",
      "Current r_seed f1,0.6993367169059088\n",
      "(25226,)\n",
      "(25226,)\n",
      "Average acc,0.7003884880678665\n",
      "Average f1,0.6993367169059088\n",
      "Std acc,0.0\n"
     ]
    }
   ],
   "source": [
    "GBDT_base = {\n",
    "    'ini_train_size': 365,\n",
    "    'win_size': 365,\n",
    "}\n",
    "\n",
    "GBDT_pram = {\n",
    "    'max_iter': 250,\n",
    "    'sample_rate': 0.8,\n",
    "    'learn_rate': 0.01,\n",
    "    'max_depth': 10,\n",
    "    'min_samples_leaf': 5\n",
    "}\n",
    "\n",
    "GBDT_base.update(GBDT_pram)\n",
    "dataset_name = 'noaa_265090'\n",
    "exp_realworld(path, dataset_name, num_run, evaluation_baseline_GBDT,\n",
    "              **GBDT_base)"
   ]
  },
  {
   "cell_type": "markdown",
   "metadata": {},
   "source": [
    "### noaa_424750"
   ]
  },
  {
   "cell_type": "code",
   "execution_count": 60,
   "metadata": {
    "ExecuteTime": {
     "end_time": "2020-08-07T00:22:46.214083Z",
     "start_time": "2020-08-07T00:22:37.774716Z"
    }
   },
   "outputs": [
    {
     "name": "stdout",
     "output_type": "stream",
     "text": [
      "====================\n",
      "    noaa_4247500    \n"
     ]
    },
    {
     "name": "stderr",
     "output_type": "stream",
     "text": [
      "#batch: 100%|██████████| 48/48 [00:01<00:00, 44.05it/s]\n"
     ]
    },
    {
     "name": "stdout",
     "output_type": "stream",
     "text": [
      "Current r_seed acc,0.8215777000338562\n",
      "Current r_seed f1,0.7392507995997534\n",
      "(17722,)\n",
      "(17722,)\n",
      "Average acc,0.8215777000338562\n",
      "Average f1,0.7392507995997534\n",
      "Std acc,0.0\n"
     ]
    }
   ],
   "source": [
    "GBDT_base = {\n",
    "    'ini_train_size': 365,\n",
    "    'win_size': 365,\n",
    "}\n",
    "\n",
    "GBDT_pram = {\n",
    "    'max_iter': 250,\n",
    "    'sample_rate': 0.8,\n",
    "    'learn_rate': 0.01,\n",
    "    'max_depth': 10,\n",
    "    'min_samples_leaf': 5\n",
    "}\n",
    "\n",
    "GBDT_base.update(GBDT_pram)\n",
    "dataset_name = 'noaa_424750'\n",
    "exp_realworld(path, dataset_name, num_run, evaluation_baseline_GBDT,\n",
    "              **GBDT_base)"
   ]
  },
  {
   "cell_type": "markdown",
   "metadata": {},
   "source": [
    "### noaa_567780"
   ]
  },
  {
   "cell_type": "code",
   "execution_count": 61,
   "metadata": {
    "ExecuteTime": {
     "end_time": "2020-08-07T00:22:55.320853Z",
     "start_time": "2020-08-07T00:22:46.215434Z"
    }
   },
   "outputs": [
    {
     "name": "stdout",
     "output_type": "stream",
     "text": [
      "====================\n",
      "    noaa_5677800    \n"
     ]
    },
    {
     "name": "stderr",
     "output_type": "stream",
     "text": [
      "#batch: 100%|██████████| 69/69 [00:01<00:00, 42.94it/s]\n"
     ]
    },
    {
     "name": "stdout",
     "output_type": "stream",
     "text": [
      "Current r_seed acc,0.6521412174463707\n",
      "Current r_seed f1,0.6496015902826245\n",
      "(25266,)\n",
      "(25266,)\n",
      "Average acc,0.6521412174463707\n",
      "Average f1,0.6496015902826245\n",
      "Std acc,0.0\n"
     ]
    }
   ],
   "source": [
    "GBDT_base = {\n",
    "    'ini_train_size': 365,\n",
    "    'win_size': 365,\n",
    "}\n",
    "\n",
    "GBDT_pram = {\n",
    "    'max_iter': 250,\n",
    "    'sample_rate': 0.8,\n",
    "    'learn_rate': 0.01,\n",
    "    'max_depth': 10,\n",
    "    'min_samples_leaf': 5\n",
    "}\n",
    "\n",
    "GBDT_base.update(GBDT_pram)\n",
    "dataset_name = 'noaa_567780'\n",
    "exp_realworld(path, dataset_name, num_run, evaluation_baseline_GBDT,\n",
    "              **GBDT_base)"
   ]
  },
  {
   "cell_type": "markdown",
   "metadata": {},
   "source": [
    "### noaa_606560"
   ]
  },
  {
   "cell_type": "code",
   "execution_count": 62,
   "metadata": {
    "ExecuteTime": {
     "end_time": "2020-08-07T00:23:03.825300Z",
     "start_time": "2020-08-07T00:22:55.322183Z"
    },
    "scrolled": true
   },
   "outputs": [
    {
     "name": "stdout",
     "output_type": "stream",
     "text": [
      "====================\n",
      "    noaa_6065600    \n"
     ]
    },
    {
     "name": "stderr",
     "output_type": "stream",
     "text": [
      "#batch: 100%|██████████| 44/44 [00:01<00:00, 41.71it/s]"
     ]
    },
    {
     "name": "stdout",
     "output_type": "stream",
     "text": [
      "Current r_seed acc,0.7296103099110156\n",
      "Current r_seed f1,0.5031607343977189\n",
      "(16295,)\n",
      "(16295,)\n",
      "Average acc,0.7296103099110156\n",
      "Average f1,0.5031607343977189\n",
      "Std acc,0.0\n"
     ]
    },
    {
     "name": "stderr",
     "output_type": "stream",
     "text": [
      "\n"
     ]
    }
   ],
   "source": [
    "GBDT_base = {\n",
    "    'ini_train_size': 365,\n",
    "    'win_size': 365,\n",
    "}\n",
    "\n",
    "GBDT_pram = {\n",
    "    'max_iter': 250,\n",
    "    'sample_rate': 0.8,\n",
    "    'learn_rate': 0.01,\n",
    "    'max_depth': 10,\n",
    "    'min_samples_leaf': 5\n",
    "}\n",
    "\n",
    "GBDT_base.update(GBDT_pram)\n",
    "dataset_name = 'noaa_606560'\n",
    "exp_realworld(path, dataset_name, num_run, evaluation_baseline_GBDT,\n",
    "              **GBDT_base)"
   ]
  },
  {
   "cell_type": "markdown",
   "metadata": {},
   "source": [
    "### noaa_702220"
   ]
  },
  {
   "cell_type": "code",
   "execution_count": 63,
   "metadata": {
    "ExecuteTime": {
     "end_time": "2020-08-07T00:23:13.025962Z",
     "start_time": "2020-08-07T00:23:03.826656Z"
    }
   },
   "outputs": [
    {
     "name": "stdout",
     "output_type": "stream",
     "text": [
      "====================\n",
      "    noaa_7022200    \n"
     ]
    },
    {
     "name": "stderr",
     "output_type": "stream",
     "text": [
      "#batch: 100%|██████████| 73/73 [00:01<00:00, 43.14it/s]\n"
     ]
    },
    {
     "name": "stdout",
     "output_type": "stream",
     "text": [
      "Current r_seed acc,0.5889236732259988\n",
      "Current r_seed f1,0.48368243535128624\n",
      "(26832,)\n",
      "(26832,)\n",
      "Average acc,0.5889236732259988\n",
      "Average f1,0.48368243535128624\n",
      "Std acc,0.0\n"
     ]
    }
   ],
   "source": [
    "GBDT_base = {\n",
    "    'ini_train_size': 365,\n",
    "    'win_size': 365,\n",
    "}\n",
    "\n",
    "GBDT_pram = {\n",
    "    'max_iter': 250,\n",
    "    'sample_rate': 0.8,\n",
    "    'learn_rate': 0.01,\n",
    "    'max_depth': 10,\n",
    "    'min_samples_leaf': 5\n",
    "}\n",
    "\n",
    "GBDT_base.update(GBDT_pram)\n",
    "dataset_name = 'noaa_702220'\n",
    "exp_realworld(path, dataset_name, num_run, evaluation_baseline_GBDT,\n",
    "              **GBDT_base)"
   ]
  },
  {
   "cell_type": "markdown",
   "metadata": {},
   "source": [
    "### noaa_802220"
   ]
  },
  {
   "cell_type": "code",
   "execution_count": 64,
   "metadata": {
    "ExecuteTime": {
     "end_time": "2020-08-07T00:23:22.059612Z",
     "start_time": "2020-08-07T00:23:13.027835Z"
    }
   },
   "outputs": [
    {
     "name": "stdout",
     "output_type": "stream",
     "text": [
      "====================\n",
      "    noaa_8022200    \n"
     ]
    },
    {
     "name": "stderr",
     "output_type": "stream",
     "text": [
      "#batch:  15%|█▌        | 10/66 [00:00<00:01, 42.69it/s]/home/kunwang/anaconda3/lib/python3.7/site-packages/sklearn/metrics/classification.py:1437: UndefinedMetricWarning: F-score is ill-defined and being set to 0.0 in labels with no predicted samples.\n",
      "  'precision', 'predicted', average, warn_for)\n",
      "/home/kunwang/anaconda3/lib/python3.7/site-packages/sklearn/metrics/classification.py:1437: UndefinedMetricWarning: F-score is ill-defined and being set to 0.0 in labels with no predicted samples.\n",
      "  'precision', 'predicted', average, warn_for)\n",
      "#batch:  38%|███▊      | 25/66 [00:00<00:00, 44.05it/s]/home/kunwang/anaconda3/lib/python3.7/site-packages/sklearn/metrics/classification.py:1437: UndefinedMetricWarning: F-score is ill-defined and being set to 0.0 in labels with no predicted samples.\n",
      "  'precision', 'predicted', average, warn_for)\n",
      "#batch:  45%|████▌     | 30/66 [00:00<00:00, 44.42it/s]/home/kunwang/anaconda3/lib/python3.7/site-packages/sklearn/metrics/classification.py:1437: UndefinedMetricWarning: F-score is ill-defined and being set to 0.0 in labels with no predicted samples.\n",
      "  'precision', 'predicted', average, warn_for)\n",
      "#batch:  61%|██████    | 40/66 [00:00<00:00, 44.45it/s]/home/kunwang/anaconda3/lib/python3.7/site-packages/sklearn/metrics/classification.py:1437: UndefinedMetricWarning: F-score is ill-defined and being set to 0.0 in labels with no predicted samples.\n",
      "  'precision', 'predicted', average, warn_for)\n",
      "#batch:  76%|███████▌  | 50/66 [00:01<00:00, 44.32it/s]/home/kunwang/anaconda3/lib/python3.7/site-packages/sklearn/metrics/classification.py:1437: UndefinedMetricWarning: F-score is ill-defined and being set to 0.0 in labels with no predicted samples.\n",
      "  'precision', 'predicted', average, warn_for)\n",
      "/home/kunwang/anaconda3/lib/python3.7/site-packages/sklearn/metrics/classification.py:1437: UndefinedMetricWarning: F-score is ill-defined and being set to 0.0 in labels with no predicted samples.\n",
      "  'precision', 'predicted', average, warn_for)\n",
      "#batch: 100%|██████████| 66/66 [00:01<00:00, 44.23it/s]\n"
     ]
    },
    {
     "name": "stdout",
     "output_type": "stream",
     "text": [
      "Current r_seed acc,0.6905812946078633\n",
      "Current r_seed f1,0.5481443027146463\n",
      "(24239,)\n",
      "(24239,)\n",
      "Average acc,0.6905812946078633\n",
      "Average f1,0.5481443027146463\n",
      "Std acc,0.0\n"
     ]
    }
   ],
   "source": [
    "GBDT_base = {\n",
    "    'ini_train_size': 365,\n",
    "    'win_size': 365,\n",
    "}\n",
    "\n",
    "GBDT_pram = {\n",
    "    'max_iter': 250,\n",
    "    'sample_rate': 0.8,\n",
    "    'learn_rate': 0.01,\n",
    "    'max_depth': 10,\n",
    "    'min_samples_leaf': 5\n",
    "}\n",
    "\n",
    "GBDT_base.update(GBDT_pram)\n",
    "dataset_name = 'noaa_802220'\n",
    "exp_realworld(path, dataset_name, num_run, evaluation_baseline_GBDT,\n",
    "              **GBDT_base)"
   ]
  },
  {
   "cell_type": "markdown",
   "metadata": {},
   "source": [
    "## iGBDT"
   ]
  },
  {
   "cell_type": "markdown",
   "metadata": {},
   "source": [
    "### noaa_042700"
   ]
  },
  {
   "cell_type": "code",
   "execution_count": 68,
   "metadata": {
    "ExecuteTime": {
     "end_time": "2020-08-07T00:24:55.865293Z",
     "start_time": "2020-08-07T00:23:38.636719Z"
    }
   },
   "outputs": [
    {
     "name": "stdout",
     "output_type": "stream",
     "text": [
      "====================\n",
      "    noaa_0427000    \n"
     ]
    },
    {
     "name": "stderr",
     "output_type": "stream",
     "text": [
      "#batch: 100%|██████████| 74/74 [01:09<00:00,  1.06it/s]"
     ]
    },
    {
     "name": "stdout",
     "output_type": "stream",
     "text": [
      "Current r_seed acc,0.7808873218745409\n",
      "Current r_seed f1,0.780791927727219\n",
      "(27228,)\n",
      "(27228,)\n",
      "Average acc,0.7808873218745409\n",
      "Average f1,0.780791927727219\n",
      "Std acc,0.0\n"
     ]
    },
    {
     "name": "stderr",
     "output_type": "stream",
     "text": [
      "\n"
     ]
    }
   ],
   "source": [
    "iGBDT = {\n",
    "    'ini_train_size': 365,\n",
    "    'win_size': 365,\n",
    "    'num_inc_tree': 25\n",
    "}\n",
    "\n",
    "GBDT_pram = {\n",
    "    'max_iter': 250,\n",
    "    'sample_rate': 0.8,\n",
    "    'learn_rate': 0.01,\n",
    "    'max_depth': 10,\n",
    "    'min_samples_leaf': 5\n",
    "}\n",
    "\n",
    "iGBDT.update(GBDT_pram)\n",
    "dataset_name = 'noaa_042700'\n",
    "exp_realworld(path, dataset_name, num_run,evaluation_naive_iGBDT,\n",
    "              **iGBDT)"
   ]
  },
  {
   "cell_type": "markdown",
   "metadata": {},
   "source": [
    "### noaa_100370"
   ]
  },
  {
   "cell_type": "code",
   "execution_count": 69,
   "metadata": {
    "ExecuteTime": {
     "end_time": "2020-08-07T00:26:12.154847Z",
     "start_time": "2020-08-07T00:24:55.866734Z"
    }
   },
   "outputs": [
    {
     "name": "stdout",
     "output_type": "stream",
     "text": [
      "====================\n",
      "    noaa_1003700    \n"
     ]
    },
    {
     "name": "stderr",
     "output_type": "stream",
     "text": [
      "#batch: 100%|██████████| 73/73 [01:08<00:00,  1.06it/s]"
     ]
    },
    {
     "name": "stdout",
     "output_type": "stream",
     "text": [
      "Current r_seed acc,0.8501841997544003\n",
      "Current r_seed f1,0.8136327923194289\n",
      "(26873,)\n",
      "(26873,)\n",
      "Average acc,0.8501841997544003\n",
      "Average f1,0.8136327923194289\n",
      "Std acc,0.0\n"
     ]
    },
    {
     "name": "stderr",
     "output_type": "stream",
     "text": [
      "\n"
     ]
    }
   ],
   "source": [
    "iGBDT = {\n",
    "    'ini_train_size': 365,\n",
    "    'win_size': 365,\n",
    "    'num_inc_tree': 25\n",
    "}\n",
    "\n",
    "GBDT_pram = {\n",
    "    'max_iter': 250,\n",
    "    'sample_rate': 0.8,\n",
    "    'learn_rate': 0.01,\n",
    "    'max_depth': 10,\n",
    "    'min_samples_leaf': 5\n",
    "}\n",
    "\n",
    "iGBDT.update(GBDT_pram)\n",
    "dataset_name = 'noaa_100370'\n",
    "exp_realworld(path, dataset_name, num_run,evaluation_naive_iGBDT,\n",
    "              **iGBDT)"
   ]
  },
  {
   "cell_type": "markdown",
   "metadata": {},
   "source": [
    "### noaa_265090"
   ]
  },
  {
   "cell_type": "code",
   "execution_count": 70,
   "metadata": {
    "ExecuteTime": {
     "end_time": "2020-08-07T00:27:24.267067Z",
     "start_time": "2020-08-07T00:26:12.156532Z"
    }
   },
   "outputs": [
    {
     "name": "stdout",
     "output_type": "stream",
     "text": [
      "====================\n",
      "    noaa_2650900    \n"
     ]
    },
    {
     "name": "stderr",
     "output_type": "stream",
     "text": [
      "#batch: 100%|██████████| 69/69 [01:04<00:00,  1.07it/s]"
     ]
    },
    {
     "name": "stdout",
     "output_type": "stream",
     "text": [
      "Current r_seed acc,0.7636565448346944\n",
      "Current r_seed f1,0.7603070934613405\n",
      "(25226,)\n",
      "(25226,)\n",
      "Average acc,0.7636565448346944\n",
      "Average f1,0.7603070934613405\n",
      "Std acc,0.0\n"
     ]
    },
    {
     "name": "stderr",
     "output_type": "stream",
     "text": [
      "\n"
     ]
    }
   ],
   "source": [
    "iGBDT = {\n",
    "    'ini_train_size': 365,\n",
    "    'win_size': 365,\n",
    "    'num_inc_tree': 25\n",
    "}\n",
    "\n",
    "GBDT_pram = {\n",
    "    'max_iter': 250,\n",
    "    'sample_rate': 0.8,\n",
    "    'learn_rate': 0.01,\n",
    "    'max_depth': 10,\n",
    "    'min_samples_leaf': 5\n",
    "}\n",
    "\n",
    "iGBDT.update(GBDT_pram)\n",
    "dataset_name = 'noaa_265090'\n",
    "exp_realworld(path, dataset_name, num_run,evaluation_naive_iGBDT,\n",
    "              **iGBDT)"
   ]
  },
  {
   "cell_type": "markdown",
   "metadata": {},
   "source": [
    "### noaa_424750"
   ]
  },
  {
   "cell_type": "code",
   "execution_count": 71,
   "metadata": {
    "ExecuteTime": {
     "end_time": "2020-08-07T00:28:13.736870Z",
     "start_time": "2020-08-07T00:27:24.268623Z"
    },
    "scrolled": true
   },
   "outputs": [
    {
     "name": "stdout",
     "output_type": "stream",
     "text": [
      "====================\n",
      "    noaa_4247500    \n"
     ]
    },
    {
     "name": "stderr",
     "output_type": "stream",
     "text": [
      "#batch: 100%|██████████| 48/48 [00:42<00:00,  1.14it/s]"
     ]
    },
    {
     "name": "stdout",
     "output_type": "stream",
     "text": [
      "Current r_seed acc,0.8738291389233721\n",
      "Current r_seed f1,0.8256505498548697\n",
      "(17722,)\n",
      "(17722,)\n",
      "Average acc,0.8738291389233721\n",
      "Average f1,0.8256505498548697\n",
      "Std acc,0.0\n"
     ]
    },
    {
     "name": "stderr",
     "output_type": "stream",
     "text": [
      "\n"
     ]
    }
   ],
   "source": [
    "iGBDT = {\n",
    "    'ini_train_size': 365,\n",
    "    'win_size': 365,\n",
    "    'num_inc_tree': 25\n",
    "}\n",
    "\n",
    "GBDT_pram = {\n",
    "    'max_iter': 250,\n",
    "    'sample_rate': 0.8,\n",
    "    'learn_rate': 0.01,\n",
    "    'max_depth': 10,\n",
    "    'min_samples_leaf': 5\n",
    "}\n",
    "\n",
    "iGBDT.update(GBDT_pram)\n",
    "dataset_name = 'noaa_424750'\n",
    "exp_realworld(path, dataset_name, num_run,evaluation_naive_iGBDT,\n",
    "              **iGBDT)"
   ]
  },
  {
   "cell_type": "markdown",
   "metadata": {},
   "source": [
    "### noaa_567780"
   ]
  },
  {
   "cell_type": "code",
   "execution_count": 72,
   "metadata": {
    "ExecuteTime": {
     "end_time": "2020-08-07T00:29:25.360066Z",
     "start_time": "2020-08-07T00:28:13.738193Z"
    }
   },
   "outputs": [
    {
     "name": "stdout",
     "output_type": "stream",
     "text": [
      "====================\n",
      "    noaa_5677800    \n"
     ]
    },
    {
     "name": "stderr",
     "output_type": "stream",
     "text": [
      "#batch: 100%|██████████| 69/69 [01:04<00:00,  1.08it/s]"
     ]
    },
    {
     "name": "stdout",
     "output_type": "stream",
     "text": [
      "Current r_seed acc,0.7971186574843664\n",
      "Current r_seed f1,0.7942798784980787\n",
      "(25266,)\n",
      "(25266,)\n",
      "Average acc,0.7971186574843664\n",
      "Average f1,0.7942798784980787\n",
      "Std acc,0.0\n"
     ]
    },
    {
     "name": "stderr",
     "output_type": "stream",
     "text": [
      "\n"
     ]
    }
   ],
   "source": [
    "iGBDT = {\n",
    "    'ini_train_size': 365,\n",
    "    'win_size': 365,\n",
    "    'num_inc_tree': 25\n",
    "}\n",
    "\n",
    "GBDT_pram = {\n",
    "    'max_iter': 250,\n",
    "    'sample_rate': 0.8,\n",
    "    'learn_rate': 0.01,\n",
    "    'max_depth': 10,\n",
    "    'min_samples_leaf': 5\n",
    "}\n",
    "\n",
    "iGBDT.update(GBDT_pram)\n",
    "dataset_name = 'noaa_567780'\n",
    "exp_realworld(path, dataset_name, num_run,evaluation_naive_iGBDT,\n",
    "              **iGBDT)"
   ]
  },
  {
   "cell_type": "markdown",
   "metadata": {},
   "source": [
    "### noaa_606560"
   ]
  },
  {
   "cell_type": "code",
   "execution_count": 73,
   "metadata": {
    "ExecuteTime": {
     "end_time": "2020-08-07T00:30:11.101326Z",
     "start_time": "2020-08-07T00:29:25.361397Z"
    }
   },
   "outputs": [
    {
     "name": "stdout",
     "output_type": "stream",
     "text": [
      "====================\n",
      "    noaa_6065600    \n"
     ]
    },
    {
     "name": "stderr",
     "output_type": "stream",
     "text": [
      "#batch:  55%|█████▍    | 24/44 [00:19<00:17,  1.16it/s]/home/kunwang/anaconda3/lib/python3.7/site-packages/sklearn/metrics/classification.py:1437: UndefinedMetricWarning: F-score is ill-defined and being set to 0.0 in labels with no predicted samples.\n",
      "  'precision', 'predicted', average, warn_for)\n",
      "#batch: 100%|██████████| 44/44 [00:38<00:00,  1.15it/s]"
     ]
    },
    {
     "name": "stdout",
     "output_type": "stream",
     "text": [
      "Current r_seed acc,0.950107394906413\n",
      "Current r_seed f1,0.671652449703248\n",
      "(16295,)\n",
      "(16295,)\n",
      "Average acc,0.950107394906413\n",
      "Average f1,0.671652449703248\n",
      "Std acc,0.0\n"
     ]
    },
    {
     "name": "stderr",
     "output_type": "stream",
     "text": [
      "\n"
     ]
    }
   ],
   "source": [
    "iGBDT = {\n",
    "    'ini_train_size': 365,\n",
    "    'win_size': 365,\n",
    "    'num_inc_tree': 25\n",
    "}\n",
    "\n",
    "GBDT_pram = {\n",
    "    'max_iter': 250,\n",
    "    'sample_rate': 0.8,\n",
    "    'learn_rate': 0.01,\n",
    "    'max_depth': 10,\n",
    "    'min_samples_leaf': 5\n",
    "}\n",
    "\n",
    "iGBDT.update(GBDT_pram)\n",
    "dataset_name = 'noaa_606560'\n",
    "exp_realworld(path, dataset_name, num_run,evaluation_naive_iGBDT,\n",
    "              **iGBDT)"
   ]
  },
  {
   "cell_type": "markdown",
   "metadata": {},
   "source": [
    "### noaa_702220"
   ]
  },
  {
   "cell_type": "code",
   "execution_count": 74,
   "metadata": {
    "ExecuteTime": {
     "end_time": "2020-08-07T00:31:27.392053Z",
     "start_time": "2020-08-07T00:30:11.102658Z"
    }
   },
   "outputs": [
    {
     "name": "stdout",
     "output_type": "stream",
     "text": [
      "====================\n",
      "    noaa_7022200    \n"
     ]
    },
    {
     "name": "stderr",
     "output_type": "stream",
     "text": [
      "#batch: 100%|██████████| 73/73 [01:08<00:00,  1.06it/s]"
     ]
    },
    {
     "name": "stdout",
     "output_type": "stream",
     "text": [
      "Current r_seed acc,0.7690071556350626\n",
      "Current r_seed f1,0.7649901810239117\n",
      "(26832,)\n",
      "(26832,)\n",
      "Average acc,0.7690071556350626\n",
      "Average f1,0.7649901810239117\n",
      "Std acc,0.0\n"
     ]
    },
    {
     "name": "stderr",
     "output_type": "stream",
     "text": [
      "\n"
     ]
    }
   ],
   "source": [
    "iGBDT = {\n",
    "    'ini_train_size': 365,\n",
    "    'win_size': 365,\n",
    "    'num_inc_tree': 25\n",
    "}\n",
    "\n",
    "GBDT_pram = {\n",
    "    'max_iter': 250,\n",
    "    'sample_rate': 0.8,\n",
    "    'learn_rate': 0.01,\n",
    "    'max_depth': 10,\n",
    "    'min_samples_leaf': 5\n",
    "}\n",
    "\n",
    "iGBDT.update(GBDT_pram)\n",
    "dataset_name = 'noaa_702220'\n",
    "exp_realworld(path, dataset_name, num_run,evaluation_naive_iGBDT,\n",
    "              **iGBDT)"
   ]
  },
  {
   "cell_type": "markdown",
   "metadata": {},
   "source": [
    "### noaa_802220"
   ]
  },
  {
   "cell_type": "code",
   "execution_count": 75,
   "metadata": {
    "ExecuteTime": {
     "end_time": "2020-08-07T00:32:35.462675Z",
     "start_time": "2020-08-07T00:31:27.393880Z"
    }
   },
   "outputs": [
    {
     "name": "stdout",
     "output_type": "stream",
     "text": [
      "====================\n",
      "    noaa_8022200    \n"
     ]
    },
    {
     "name": "stderr",
     "output_type": "stream",
     "text": [
      "#batch: 100%|██████████| 66/66 [01:00<00:00,  1.09it/s]"
     ]
    },
    {
     "name": "stdout",
     "output_type": "stream",
     "text": [
      "Current r_seed acc,0.7583233631750484\n",
      "Current r_seed f1,0.723081999270643\n",
      "(24239,)\n",
      "(24239,)\n",
      "Average acc,0.7583233631750484\n",
      "Average f1,0.723081999270643\n",
      "Std acc,0.0\n"
     ]
    },
    {
     "name": "stderr",
     "output_type": "stream",
     "text": [
      "\n"
     ]
    }
   ],
   "source": [
    "iGBDT = {\n",
    "    'ini_train_size': 365,\n",
    "    'win_size': 365,\n",
    "    'num_inc_tree': 25\n",
    "}\n",
    "\n",
    "GBDT_pram = {\n",
    "    'max_iter': 250,\n",
    "    'sample_rate': 0.8,\n",
    "    'learn_rate': 0.01,\n",
    "    'max_depth': 10,\n",
    "    'min_samples_leaf': 5\n",
    "}\n",
    "\n",
    "iGBDT.update(GBDT_pram)\n",
    "dataset_name = 'noaa_802220'\n",
    "exp_realworld(path, dataset_name, num_run,evaluation_naive_iGBDT,\n",
    "              **iGBDT)"
   ]
  },
  {
   "cell_type": "code",
   "execution_count": null,
   "metadata": {},
   "outputs": [],
   "source": []
  }
 ],
 "metadata": {
  "kernelspec": {
   "display_name": "Python 3",
   "language": "python",
   "name": "python3"
  },
  "language_info": {
   "codemirror_mode": {
    "name": "ipython",
    "version": 3
   },
   "file_extension": ".py",
   "mimetype": "text/x-python",
   "name": "python",
   "nbconvert_exporter": "python",
   "pygments_lexer": "ipython3",
   "version": "3.7.4"
  },
  "toc": {
   "base_numbering": 1,
   "nav_menu": {},
   "number_sections": true,
   "sideBar": true,
   "skip_h1_title": false,
   "title_cell": "Table of Contents",
   "title_sidebar": "Contents",
   "toc_cell": false,
   "toc_position": {
    "height": "757px",
    "left": "66px",
    "top": "110px",
    "width": "262px"
   },
   "toc_section_display": true,
   "toc_window_display": true
  }
 },
 "nbformat": 4,
 "nbformat_minor": 2
}
